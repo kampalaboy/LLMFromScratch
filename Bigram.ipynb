{
 "cells": [
  {
   "cell_type": "code",
   "execution_count": 37,
   "id": "534c8427-d996-4d7e-96df-eb8904b4c005",
   "metadata": {},
   "outputs": [
    {
     "name": "stdout",
     "output_type": "stream",
     "text": [
      "cuda\n"
     ]
    }
   ],
   "source": [
    "import torch\n",
    "import torch.nn as nn\n",
    "from torch.nn  import functional as F\n",
    "device = 'cuda' if torch.cuda.is_available() else 'cpu'\n",
    "print(device)\n",
    "blockSize = 8\n",
    "batchSize = 4\n",
    "iters = 1000\n",
    "lr = 3e-4\n",
    "evali = 250\n",
    "# dropout = 0.2"
   ]
  },
  {
   "cell_type": "code",
   "execution_count": 38,
   "id": "45d7e041-e9ed-4d89-95a9-be93d4d3d320",
   "metadata": {},
   "outputs": [
    {
     "name": "stdout",
     "output_type": "stream",
     "text": [
      "['\\t', '\\n', ' ', '!', '$', '(', ')', '*', ',', '-', '.', '0', '1', '2', '3', '4', '5', '6', '7', '8', '9', ':', ';', '?', 'A', 'B', 'C', 'D', 'E', 'F', 'G', 'H', 'I', 'J', 'K', 'L', 'M', 'N', 'O', 'P', 'Q', 'R', 'S', 'T', 'U', 'V', 'W', 'X', 'Y', 'Z', '[', ']', 'a', 'b', 'c', 'd', 'e', 'f', 'g', 'h', 'i', 'j', 'k', 'l', 'm', 'n', 'o', 'p', 'q', 'r', 's', 't', 'u', 'v', 'w', 'x', 'y', 'z', 'ç', 'é', 'ê', 'ô', '\\u200a', '—', '‘', '’', '“', '”', '…', '\\ufeff']\n"
     ]
    }
   ],
   "source": [
    "with open ('Gatsby.txt', 'r', encoding='UTF-8') as f:\n",
    "    text = f.read()\n",
    "\n",
    "chars=sorted(set(text))\n",
    "print(chars) \n",
    "\n",
    "vocab= len(chars)"
   ]
  },
  {
   "cell_type": "code",
   "execution_count": 39,
   "id": "9d69a328-7bf6-4276-bcfb-ad8d75482214",
   "metadata": {},
   "outputs": [
    {
     "name": "stdout",
     "output_type": "stream",
     "text": [
      "tensor([89,  1,  1,  0,  0,  0,  2,  2,  2, 43, 59, 56,  2, 30, 69, 56, 52, 71,\n",
      "         2, 30, 52, 71, 70, 53, 76,  1,  0,  0,  0,  0,  2,  2, 53, 76,  1,  0,\n",
      "         0,  0,  2, 29, 10,  2, 42, 54, 66, 71, 71,  2, 29, 60, 71, 77, 58, 56,\n",
      "        69, 52, 63, 55,  1,  1,  1,  2,  2,  2,  2,  2,  2,  2,  2,  2,  2,  2,\n",
      "         2,  2,  2,  2,  2,  2,  2,  2,  2,  2,  2,  2,  2,  2,  2,  2, 43, 52,\n",
      "        53, 63, 56,  2, 66, 57,  2, 26, 66, 65, 71, 56, 65, 71, 70,  1,  1, 32,\n",
      "         1, 32, 32,  1, 32, 32, 32,  1, 32, 45,  1, 45,  1, 45, 32,  1, 45, 32,\n",
      "        32,  1, 45, 32, 32, 32,  1, 32, 47,  1,  1,  1,  2,  2,  2,  2,  2,  2,\n",
      "         2,  2,  2,  2,  2,  2,  2,  2,  2,  2,  2,  2,  2,  2,  2,  2,  2,  2,\n",
      "         2,  2,  2,  2,  2,  2, 38, 65, 54, 56,  2, 52, 58, 52, 60, 65,  1,  2,\n",
      "         2,  2,  2,  2,  2,  2,  2,  2,  2,  2,  2,  2,  2,  2,  2,  2,  2,  2,\n",
      "         2,  2,  2,  2,  2,  2,  2,  2,  2,  2,  2,  2,  2,  2,  2, 71, 66,  1,\n",
      "         2,  2,  2,  2,  2,  2,  2,  2,  2,  2,  2,  2,  2,  2,  2,  2,  2,  2,\n",
      "         2,  2,  2,  2,  2,  2,  2,  2,  2,  2,  2,  2,  2,  2,  2, 49, 56, 63,\n",
      "        55, 52,  1,  1,  2,  2, 43, 59, 56, 65,  2, 74, 56, 52, 69,  2, 71, 59,\n",
      "        56,  2, 58, 66, 63, 55,  2, 59, 52, 71,  8,  2, 60, 57,  2, 71, 59, 52,\n",
      "        71,  2, 74, 60, 63, 63,  2, 64, 66, 73, 56,  2, 59, 56, 69, 22,  1,  2,\n",
      "         2, 32, 57,  2, 76, 66, 72,  2, 54, 52, 65,  2, 53, 66, 72, 65, 54, 56,\n",
      "         2, 59, 60, 58, 59,  8,  2, 53, 66, 72, 65, 54, 56,  2, 57, 66, 69,  2,\n",
      "        59, 56, 69,  2, 71, 66, 66,  8,  1,  2,  2, 43, 60, 63, 63,  2, 70, 59,\n",
      "        56,  2, 54, 69, 76,  2, 86, 35, 66, 73, 56, 69,  8,  2, 58, 66, 63, 55,\n",
      "         9, 59, 52, 71, 71, 56, 55,  8,  2, 59, 60, 58, 59,  9, 53, 66, 72, 65,\n",
      "        54, 60, 65, 58,  2, 63, 66, 73, 56, 69,  8,  1,  2,  2, 32,  2, 64, 72,\n",
      "        70, 71,  2, 59, 52, 73, 56,  2, 76, 66, 72,  3, 87,  1,  1,  2,  2, 43,\n",
      "        59, 66, 64, 52, 70,  2, 39, 52, 69, 62, 56,  2, 55, 85, 32, 65, 73, 60,\n",
      "        63, 63, 60, 56, 69, 70,  1,  1,  1,  2,  2,  2,  2,  2,  2,  2,  2,  2,\n",
      "         2,  2,  2,  2,  2,  2,  2,  2,  2,  2,  2,  2,  2,  2,  2,  2,  2,  2,\n",
      "         2,  2,  2,  2,  2,  2,  2, 32,  1,  1, 32, 65,  2, 64, 76,  2, 76, 66,\n",
      "        72, 65, 58, 56, 69,  2, 52, 65, 55,  2, 64, 66, 69, 56,  2, 73, 72, 63,\n",
      "        65, 56, 69, 52, 53, 63, 56,  2, 76, 56, 52, 69, 70,  2, 64, 76,  2, 57,\n",
      "        52, 71, 59, 56, 69,  2, 58, 52, 73, 56,  2, 64, 56,  2, 70, 66, 64, 56,\n",
      "         2, 52, 55, 73, 60, 54, 56,  1, 71, 59, 52, 71,  2, 32, 85, 73, 56,  2,\n",
      "        53, 56, 56, 65,  2, 71, 72, 69, 65, 60, 65, 58,  2, 66, 73, 56, 69,  2,\n",
      "        60, 65,  2, 64, 76,  2, 64, 60, 65, 55,  2, 56, 73, 56, 69,  2, 70, 60,\n",
      "        65, 54, 56, 10,  1,  1, 86, 46, 59, 56, 65, 56, 73, 56, 69,  2, 76, 66,\n",
      "        72,  2, 57, 56, 56, 63,  2, 63, 60, 62, 56,  2, 54, 69, 60, 71, 60, 54,\n",
      "        60, 77, 60, 65, 58,  2, 52, 65, 76, 66, 65, 56,  8, 87,  2, 59, 56,  2,\n",
      "        71, 66, 63, 55,  2, 64, 56,  8,  2, 86, 61, 72, 70, 71,  1, 69, 56, 64,\n",
      "        56, 64, 53, 56, 69,  2, 71, 59, 52, 71,  2, 52, 63, 63,  2, 71, 59, 56,\n",
      "         2, 67, 56, 66, 67, 63, 56,  2, 60, 65,  2, 71, 59, 60, 70,  2, 74, 66,\n",
      "        69, 63, 55,  2, 59, 52, 73, 56, 65, 85, 71,  2, 59, 52, 55,  2, 71, 59,\n",
      "        56,  2, 52, 55, 73, 52, 65, 71, 52, 58, 56, 70,  1, 71, 59, 52, 71,  2,\n",
      "        76, 66, 72, 85, 73, 56,  2, 59, 52, 55, 10, 87,  1,  1, 31, 56,  2, 55,\n",
      "        60, 55, 65, 85, 71,  2, 70, 52, 76,  2, 52, 65, 76,  2, 64, 66, 69, 56,\n",
      "         8,  2, 53, 72, 71,  2, 74, 56, 85, 73, 56,  2, 52, 63, 74, 52, 76, 70,\n",
      "         2, 53, 56, 56, 65,  2, 72, 65, 72, 70, 72, 52, 63, 63, 76,  2, 54, 66,\n",
      "        64, 64, 72, 65, 60, 54, 52, 71, 60, 73, 56,  1, 60, 65,  2, 52,  2, 69,\n",
      "        56, 70, 56, 69, 73, 56, 55,  2, 74, 52, 76,  8,  2, 52, 65, 55,  2, 32,\n",
      "         2, 72, 65, 55, 56, 69, 70, 71, 66, 66, 55,  2, 71, 59, 52, 71,  2, 59,\n",
      "        56,  2, 64, 56, 52, 65, 71,  2, 52,  2, 58, 69, 56, 52, 71,  2, 55, 56,\n",
      "        52, 63,  2, 64, 66, 69, 56,  1, 71, 59, 52, 65,  2, 71, 59, 52, 71, 10,\n",
      "         2, 32, 65,  2, 54, 66, 65, 70, 56, 68, 72, 56, 65, 54, 56,  8,  2, 32,\n",
      "        85, 64,  2, 60, 65, 54, 63, 60, 65, 56, 55,  2, 71, 66,  2, 69, 56, 70,\n",
      "        56, 69, 73, 56,  2, 52, 63, 63,  2, 61, 72, 55, 58, 56, 64, 56, 65, 71,\n",
      "        70,  8,  2, 52,  1, 59, 52, 53, 60, 71,  2, 71, 59, 52, 71,  2, 59, 52,\n",
      "        70,  2, 66, 67, 56, 65, 56, 55,  2, 72])\n"
     ]
    }
   ],
   "source": [
    "char_to_int = { ch:i  for i,ch in enumerate(chars)}\n",
    "int_to_char = { i:ch for i,ch in enumerate(chars)}\n",
    "\n",
    "encode = lambda s:[char_to_int[c] for c in s]\n",
    "decode = lambda l: ''.join([int_to_char[i] for i in l])\n",
    "\n",
    "data = torch.tensor(encode(text), dtype=torch.long)\n",
    "print(data[:1000])"
   ]
  },
  {
   "cell_type": "code",
   "execution_count": 40,
   "id": "3b71d85b-1e8f-4220-9d73-4da847b68458",
   "metadata": {},
   "outputs": [
    {
     "name": "stdout",
     "output_type": "stream",
     "text": [
      "inputs:\n",
      "tensor([[69, 56, 70, 71, 63, 56, 70, 70],\n",
      "        [72, 71,  2, 60, 71,  2, 57, 66],\n",
      "        [ 2, 62, 65, 66, 74, 70,  2, 74],\n",
      "        [69,  8,  2, 61, 72, 70, 71,  2]], device='cuda:0')\n",
      "outputs:\n",
      "tensor([[56, 70, 71, 63, 56, 70, 70,  2],\n",
      "        [71,  2, 60, 71,  2, 57, 66, 69],\n",
      "        [62, 65, 66, 74, 70,  2, 74, 59],\n",
      "        [ 8,  2, 61, 72, 70, 71,  2, 52]], device='cuda:0')\n"
     ]
    }
   ],
   "source": [
    "n = int(0.8*len(data))\n",
    "train= data[:n]\n",
    "val= data[:n]\n",
    "\n",
    "def getBatch(split):\n",
    "    data = train if split == 'train' else val\n",
    "    ix = torch.randint(len(data) - blockSize,(batchSize,) )\n",
    "    x = torch.stack([data[i:i+blockSize] for i in ix])\n",
    "    y = torch.stack([data[i+1:i+blockSize+1] for i in ix])\n",
    "    x,y = x.to(device), y.to(device)\n",
    "    return x,y\n",
    "\n",
    "x,y = getBatch('train')\n",
    "\n",
    "print('inputs:')\n",
    "print(x)\n",
    "\n",
    "print('outputs:')\n",
    "print (y)"
   ]
  },
  {
   "cell_type": "code",
   "execution_count": 41,
   "id": "0d8dd866",
   "metadata": {},
   "outputs": [
    {
     "name": "stdout",
     "output_type": "stream",
     "text": [
      "tensor([89]) output: tensor(1)\n",
      "tensor([89,  1]) output: tensor(1)\n",
      "tensor([89,  1,  1]) output: tensor(0)\n",
      "tensor([89,  1,  1,  0]) output: tensor(0)\n",
      "tensor([89,  1,  1,  0,  0]) output: tensor(0)\n",
      "tensor([89,  1,  1,  0,  0,  0]) output: tensor(2)\n",
      "tensor([89,  1,  1,  0,  0,  0,  2]) output: tensor(2)\n",
      "tensor([89,  1,  1,  0,  0,  0,  2,  2]) output: tensor(2)\n"
     ]
    }
   ],
   "source": [
    "x = train[:blockSize]\n",
    "y = train[1:blockSize+1]\n",
    "\n",
    "for t in range(blockSize):\n",
    "    context = x[:t+1]\n",
    "    target = y[t]\n",
    "    print(context, 'output:', target)"
   ]
  },
  {
   "cell_type": "code",
   "execution_count": 47,
   "id": "30d7746b",
   "metadata": {},
   "outputs": [],
   "source": [
    "@torch.no_grad()\n",
    "def estimate_loss():\n",
    "    out = {}\n",
    "    model.eval()\n",
    "    for split in ['train', 'val']:\n",
    "        losses = torch.zeros(evali)\n",
    "        for k in range(evali):\n",
    "            X, Y = getBatch(split)\n",
    "            logits, loss = model(X, Y)\n",
    "            losses[k] = loss.item()\n",
    "        out[split] = losses.mean()\n",
    "    model.train()\n",
    "    return out"
   ]
  },
  {
   "cell_type": "code",
   "execution_count": 48,
   "id": "88117e98-6264-47e0-809c-09f021fd6c09",
   "metadata": {},
   "outputs": [
    {
     "name": "stdout",
     "output_type": "stream",
     "text": [
      "\tHd uçCuxKR\n",
      "ésiuxq2S,﻿S﻿rLUcTFLgS B B2fNLVmM:dreç3DuKj?”“8c“oM\tVzi?xKo$lv!lt:mXSdIkj\n",
      "ô﻿bXUURS\tMVmTulKM?[dBhBéxXi?1dOo8Fshô\tzç:SANXOLsqH]!iô],E0Mê4”CdZ-“Kz$“(ipkVUi6\tGzu2.tP—ç 6;avo7W…N6$9’m2f‘ZzcR…UeLfhI(sVDOpOL5(—zme$éXcv\n",
      "-OcGU;A”EsTêH3]20?R4yv!K1’TsC— wB08or)LK;\n",
      "éZ—??2TzLFxB,o9c1xjcT4h)ij5.W$nlsc4K129ce !\tg0e*m’rLgKnWSX!zfsêq2zbudqcul!zQNRtcv F-6Kh]…Nyvr!KgrsIK’894êHH.JsK2S929qêG FMT6AmLstt5dr,hG *…x*U…Gy\t8!(![0eCGQE0wWzNR4rQhV’uEhMhD…I0S\n",
      "dPAac”I‘$6W“eyO-PY !BD5N’nAd Ea7 Y(b8\n",
      "ZXU\n",
      "uxFXcQLêç7;x“g\n"
     ]
    }
   ],
   "source": [
    "class Bigram(nn.Module):\n",
    "    \n",
    "    def __init__(self, vocab):\n",
    "        super().__init__()\n",
    "        self.token = nn.Embedding(vocab, vocab)\n",
    "        \n",
    "    def forward(self, index, targets=None):\n",
    "        logits = self.token(index)\n",
    "        \n",
    "        if targets is None:\n",
    "            loss = None\n",
    "        else:\n",
    "            B, T, C = logits.shape \n",
    "            logits = logits.view(B*T, C)\n",
    "            targets = targets.view(B*T)\n",
    "            loss = F.cross_entropy(logits, targets)\n",
    "        \n",
    "        return logits, loss\n",
    "    \n",
    "    def generate(self, index, max_tokens):\n",
    "        \n",
    "        for _ in range (max_tokens):\n",
    "            logits, loss = self.forward(index)\n",
    "            logits = logits[:,-1,:]\n",
    "            probs = F.softmax(logits, dim=-1)\n",
    "            index_next = torch.multinomial(probs, num_samples=1)\n",
    "            index = torch.cat((index, index_next), dim=1)\n",
    "            \n",
    "        return index\n",
    "    \n",
    "model = Bigram(vocab)\n",
    "m = model.to(device)\n",
    "    \n",
    "context = torch.zeros((1,1), dtype=torch.long, device=device)\n",
    "generated = decode(m.generate(context, max_tokens=500)[0].tolist())\n",
    "print(generated)    \n",
    "    "
   ]
  },
  {
   "cell_type": "code",
   "execution_count": 53,
   "id": "3daab7ed",
   "metadata": {},
   "outputs": [
    {
     "name": "stdout",
     "output_type": "stream",
     "text": [
      "step: 0, tloss:4.776259899139404, vloss:4.786865234375\n",
      "step: 250, tloss:4.702925682067871, vloss:4.714049339294434\n",
      "step: 500, tloss:4.660702705383301, vloss:4.664233207702637\n",
      "step: 750, tloss:4.600022792816162, vloss:4.599461555480957\n",
      "4.37638521194458\n"
     ]
    }
   ],
   "source": [
    "optimize = torch.optim.AdamW(model.parameters(), lr=lr)\n",
    "\n",
    "for iter in range(iters):\n",
    "    if iter % evali == 0:\n",
    "        losses = estimate_loss()\n",
    "        print(f\"step: {iter}, tloss:{losses['train']}, vloss:{losses['val']}\")\n",
    "        \n",
    "    xb, yb = getBatch('train')\n",
    "    \n",
    "    logits, loss = model.forward(xb, yb)\n",
    "    optimize.zero_grad(set_to_none=True)\n",
    "    loss.backward()\n",
    "    optimize.step()\n",
    "    \n",
    "print(loss.item())\n",
    "        "
   ]
  },
  {
   "cell_type": "code",
   "execution_count": null,
   "id": "3a3855ae",
   "metadata": {},
   "outputs": [],
   "source": []
  },
  {
   "cell_type": "code",
   "execution_count": null,
   "id": "037a002c",
   "metadata": {},
   "outputs": [],
   "source": []
  },
  {
   "cell_type": "code",
   "execution_count": null,
   "id": "1cf3f718",
   "metadata": {},
   "outputs": [],
   "source": []
  }
 ],
 "metadata": {
  "kernelspec": {
   "display_name": "cudaGuess",
   "language": "python",
   "name": "cuda"
  },
  "language_info": {
   "codemirror_mode": {
    "name": "ipython",
    "version": 3
   },
   "file_extension": ".py",
   "mimetype": "text/x-python",
   "name": "python",
   "nbconvert_exporter": "python",
   "pygments_lexer": "ipython3",
   "version": "3.9.7"
  }
 },
 "nbformat": 4,
 "nbformat_minor": 5
}
